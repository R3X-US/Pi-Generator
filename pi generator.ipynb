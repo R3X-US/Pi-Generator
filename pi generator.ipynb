{
 "cells": [
  {
   "cell_type": "code",
   "execution_count": 34,
   "id": "dfdb6a6b-49a0-424f-9481-ebdabee8ac60",
   "metadata": {},
   "outputs": [],
   "source": [
    "import random\n",
    "dots_x = []\n",
    "dots_y = []\n",
    "dots_c = []\n",
    "def generate_pi(n):\n",
    "    d_in = 0\n",
    "    d_ttl = 0\n",
    "    \n",
    "    for i in range(n):\n",
    "        d_x = random.uniform(0, 1)\n",
    "        d_y = random.uniform(0, 1)\n",
    "        \n",
    "        clr = '#FF0000'\n",
    "        \n",
    "        \n",
    "        \n",
    "        dist = d_x**2 + d_y**2\n",
    "        if dist <= 1:\n",
    "            d_in +=1\n",
    "            clr = '#198CFF'\n",
    "        d_ttl +=1\n",
    "        if i % 10 == 0 and i < 1000000:\n",
    "            dots_x.append(d_x / 2.245)\n",
    "            dots_y.append(d_y / 2.25)\n",
    "            dots_c.append(clr)\n",
    "    \n",
    "    return 4 * d_in / d_ttl\n",
    "\n",
    "            \n",
    "    \n",
    "    "
   ]
  },
  {
   "cell_type": "code",
   "execution_count": 41,
   "id": "cd01335f-411d-4ef9-984d-8515c034cacc",
   "metadata": {},
   "outputs": [
    {
     "data": {
      "text/plain": [
       "3.14155264"
      ]
     },
     "execution_count": 41,
     "metadata": {},
     "output_type": "execute_result"
    }
   ],
   "source": [
    "generate_pi(5000000)\n"
   ]
  },
  {
   "cell_type": "code",
   "execution_count": 40,
   "id": "777af7c0-2929-4eac-bea8-9c656656f096",
   "metadata": {},
   "outputs": [
    {
     "data": {
      "image/png": "[encoded data removed]",
      "text/plain": [
       "<Figure size 432x288 with 1 Axes>"
      ]
     },
     "metadata": {
      "needs_background": "light"
     },
     "output_type": "display_data"
    }
   ],
   "source": [
    "import numpy as np\n",
    "import matplotlib.pyplot as plt\n",
    " \n",
    "x = np.linspace( -0.45 , 0.45 , 150 )\n",
    "y = np.linspace( -0.45 , 0.45 , 150 )\n",
    " \n",
    "a, b = np.meshgrid( x , y )\n",
    " \n",
    "C = a ** 2 + b ** 2 - 0.2\n",
    " \n",
    "figure, axes = plt.subplots()\n",
    " \n",
    "axes.contour( a , b , C , [0] )\n",
    "axes.set_aspect( 1 )\n",
    "\n",
    "axes.scatter(dots_x, dots_y, s=1, c=dots_c, vmin=0, vmax=100)\n",
    "\n",
    " \n",
    "plt.title( 'Circle' )\n",
    "plt.show()"
   ]
  },
  {
   "cell_type": "code",
   "execution_count": null,
   "id": "7ebdabee-fc2f-4aa8-a28e-d533de3000cf",
   "metadata": {},
   "outputs": [],
   "source": []
  }
 ],
 "metadata": {
  "kernelspec": {
   "display_name": "Python 3 (ipykernel)",
   "language": "python",
   "name": "python3"
  },
  "language_info": {
   "codemirror_mode": {
    "name": "ipython",
    "version": 3
   },
   "file_extension": ".py",
   "mimetype": "text/x-python",
   "name": "python",
   "nbconvert_exporter": "python",
   "pygments_lexer": "ipython3",
   "version": "3.8.8"
  }
 },
 "nbformat": 4,
 "nbformat_minor": 5
}
